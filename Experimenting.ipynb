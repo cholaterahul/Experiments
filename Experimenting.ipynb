{
  "cells": [
    {
      "cell_type": "markdown",
      "metadata": {
        "id": "view-in-github",
        "colab_type": "text"
      },
      "source": [
        "<a href=\"https://colab.research.google.com/github/cholaterahul/Experiments/blob/master/Experimenting.ipynb\" target=\"_parent\"><img src=\"https://colab.research.google.com/assets/colab-badge.svg\" alt=\"Open In Colab\"/></a>"
      ]
    },
    {
      "cell_type": "code",
      "execution_count": null,
      "metadata": {
        "colab": {
          "base_uri": "https://localhost:8080/"
        },
        "id": "0E3B0WqiDNHg",
        "outputId": "1d3c8eae-3fd4-4a6c-c467-6124b7b01a8d"
      },
      "outputs": [
        {
          "output_type": "stream",
          "name": "stdout",
          "text": [
            "navin\\'s \"laptop\"\n"
          ]
        }
      ],
      "source": [
        "print(r'navin\\'s \"laptop\"') "
      ]
    },
    {
      "cell_type": "code",
      "source": [
        "a=0\n",
        "for i in range (65, 91):\n",
        "    a=a+1\n",
        "    print(chr(i),'=',a)"
      ],
      "metadata": {
        "colab": {
          "base_uri": "https://localhost:8080/"
        },
        "id": "k-Pte3YotFkz",
        "outputId": "5361ae93-8fdc-43e5-95e2-04e01a7591d4"
      },
      "execution_count": null,
      "outputs": [
        {
          "output_type": "stream",
          "name": "stdout",
          "text": [
            "A = 1\n",
            "B = 2\n",
            "C = 3\n",
            "D = 4\n",
            "E = 5\n",
            "F = 6\n",
            "G = 7\n",
            "H = 8\n",
            "I = 9\n",
            "J = 10\n",
            "K = 11\n",
            "L = 12\n",
            "M = 13\n",
            "N = 14\n",
            "O = 15\n",
            "P = 16\n",
            "Q = 17\n",
            "R = 18\n",
            "S = 19\n",
            "T = 20\n",
            "U = 21\n",
            "V = 22\n",
            "W = 23\n",
            "X = 24\n",
            "Y = 25\n",
            "Z = 26\n"
          ]
        }
      ]
    },
    {
      "cell_type": "code",
      "source": [
        "x = range(3, 20, 2)\n",
        "for n in x:\n",
        "  print(n)"
      ],
      "metadata": {
        "colab": {
          "base_uri": "https://localhost:8080/"
        },
        "id": "x4-ilpVhv5-a",
        "outputId": "bd4394d2-768a-4e41-f6bf-0a2dff4c2938"
      },
      "execution_count": null,
      "outputs": [
        {
          "output_type": "stream",
          "name": "stdout",
          "text": [
            "3\n",
            "5\n",
            "7\n",
            "9\n",
            "11\n",
            "13\n",
            "15\n",
            "17\n",
            "19\n"
          ]
        }
      ]
    },
    {
      "cell_type": "code",
      "source": [
        "# To find lenghts of each elements of strings present in a tuple\n",
        "tup= ('siddu','Ritu',\"\",'Rahul')\n",
        "len_ele=[]\n",
        "for i in range(len(tup)):\n",
        "    len_ele.append(len(tup[i]))\n",
        "print('A list of length of each element in the tuple is :', len_ele)\n",
        "\n",
        "for i in range(len(len_ele)):\n",
        "    if len_ele[i]==0:\n",
        "        len_ele[i]=''\n",
        "    elif \n",
        "else:\n",
        "    print(len_ele)"
      ],
      "metadata": {
        "colab": {
          "base_uri": "https://localhost:8080/"
        },
        "id": "u_WEn2DsxuI9",
        "outputId": "087e720e-f576-4306-f8b2-451c91f283d9"
      },
      "execution_count": null,
      "outputs": [
        {
          "output_type": "stream",
          "name": "stdout",
          "text": [
            "A list of length of each element in the tuple is : [5, 4, 0, 5]\n",
            "[5, 4, '', 5]\n"
          ]
        }
      ]
    },
    {
      "cell_type": "code",
      "source": [
        "str_1 = \"this is string example....wow!!! this is really string\"\n",
        "print(str_1.replace(\"is\", \"was\"))\n",
        "print(str_1.replace(\"is\", \"was\", 1))# restricting number of replacements to occur"
      ],
      "metadata": {
        "colab": {
          "base_uri": "https://localhost:8080/"
        },
        "id": "OOV7EKTF58Qq",
        "outputId": "feb98bd0-b0af-445a-92f9-80f93655ffb7"
      },
      "execution_count": null,
      "outputs": [
        {
          "output_type": "stream",
          "name": "stdout",
          "text": [
            "thwas was string example....wow!!! thwas was really string\n",
            "thwas is string example....wow!!! this is really string\n"
          ]
        }
      ]
    },
    {
      "cell_type": "code",
      "source": [
        "#Empty list:\n",
        "list_1=[]\n",
        "list_1"
      ],
      "metadata": {
        "colab": {
          "base_uri": "https://localhost:8080/"
        },
        "id": "pWq1nqJ71ENO",
        "outputId": "1eaf1beb-dd76-499a-b697-8c7491c9edb6"
      },
      "execution_count": null,
      "outputs": [
        {
          "output_type": "execute_result",
          "data": {
            "text/plain": [
              "[]"
            ]
          },
          "metadata": {},
          "execution_count": 22
        }
      ]
    },
    {
      "cell_type": "code",
      "source": [
        ""
      ],
      "metadata": {
        "id": "zcN8R1pC1EBY"
      },
      "execution_count": null,
      "outputs": []
    },
    {
      "cell_type": "code",
      "source": [
        "# To print ASCII values\n",
        "for i in range(65,91):\n",
        "    print(chr(i),'=',ord(chr(i)))"
      ],
      "metadata": {
        "colab": {
          "base_uri": "https://localhost:8080/"
        },
        "id": "WFZb_UCByigr",
        "outputId": "be0f2adc-ac12-4d6a-a74a-7a3c14984c30"
      },
      "execution_count": null,
      "outputs": [
        {
          "output_type": "stream",
          "name": "stdout",
          "text": [
            "A = 65\n",
            "B = 66\n",
            "C = 67\n",
            "D = 68\n",
            "E = 69\n",
            "F = 70\n",
            "G = 71\n",
            "H = 72\n",
            "I = 73\n",
            "J = 74\n",
            "K = 75\n",
            "L = 76\n",
            "M = 77\n",
            "N = 78\n",
            "O = 79\n",
            "P = 80\n",
            "Q = 81\n",
            "R = 82\n",
            "S = 83\n",
            "T = 84\n",
            "U = 85\n",
            "V = 86\n",
            "W = 87\n",
            "X = 88\n",
            "Y = 89\n",
            "Z = 90\n"
          ]
        }
      ]
    },
    {
      "cell_type": "code",
      "source": [
        "for i in range(1,10):\n",
        "    print(i)"
      ],
      "metadata": {
        "colab": {
          "base_uri": "https://localhost:8080/"
        },
        "id": "2LqItbsZx2tg",
        "outputId": "e59f2e25-0fd8-469f-df10-e8f83ecc2d73"
      },
      "execution_count": null,
      "outputs": [
        {
          "output_type": "stream",
          "name": "stdout",
          "text": [
            "1\n",
            "2\n",
            "3\n",
            "4\n",
            "5\n",
            "6\n",
            "7\n",
            "8\n",
            "9\n"
          ]
        }
      ]
    },
    {
      "cell_type": "code",
      "execution_count": null,
      "metadata": {
        "colab": {
          "base_uri": "https://localhost:8080/"
        },
        "id": "ZL7S_NC8joBI",
        "outputId": "220980da-ee82-4827-dafd-06864ad29725"
      },
      "outputs": [
        {
          "output_type": "stream",
          "name": "stdout",
          "text": [
            "[5, 7, 3, 2, 'Hi']\n"
          ]
        }
      ],
      "source": [
        "list_1=[5,6,7,3,2,'Hi']\n",
        "list_1.pop(1)\n",
        "print(list_1)"
      ]
    },
    {
      "cell_type": "markdown",
      "source": [
        "***CONVERTING LISTS TO DATAFRAME***"
      ],
      "metadata": {
        "id": "BilXH4QGRERW"
      }
    },
    {
      "cell_type": "code",
      "source": [
        "import pandas as pd\n",
        "from pandas import DataFrame as df\n",
        "Names =  ['ASWINI', 'RITI', 'AADI']\n",
        "Age   =  [24, 10, 43]\n",
        "City  =  ['KOLKATA', 'DELHI', 'HYDERABAD']\n",
        "zipped_list=list(zip(Names,Age,City))\n",
        "print(zipped_list)\n",
        "data_frame = pd.DataFrame(zipped_list, columns= ['Name' , 'Age', 'City'], index=['1', '2', '3'])\n",
        "print(data_frame)"
      ],
      "metadata": {
        "colab": {
          "base_uri": "https://localhost:8080/"
        },
        "id": "FptNGVFH38vQ",
        "outputId": "dedde684-3547-47d7-a1df-fda9154f405f"
      },
      "execution_count": null,
      "outputs": [
        {
          "output_type": "stream",
          "name": "stdout",
          "text": [
            "[('ASWINI', 24, 'KOLKATA'), ('RITI', 10, 'DELHI'), ('AADI', 43, 'HYDERABAD')]\n",
            "     Name  Age       City\n",
            "1  ASWINI   24    KOLKATA\n",
            "2    RITI   10      DELHI\n",
            "3    AADI   43  HYDERABAD\n"
          ]
        }
      ]
    },
    {
      "cell_type": "code",
      "source": [
        "list_1=(5,6,7,3,2,'Hi')\n",
        "list_1.index('Hi')"
      ],
      "metadata": {
        "colab": {
          "base_uri": "https://localhost:8080/"
        },
        "id": "b904TfDvvhah",
        "outputId": "36940f36-f9b4-49f1-9870-3f71d84c22ee"
      },
      "execution_count": null,
      "outputs": [
        {
          "output_type": "execute_result",
          "data": {
            "text/plain": [
              "5"
            ]
          },
          "metadata": {},
          "execution_count": 54
        }
      ]
    },
    {
      "cell_type": "code",
      "source": [
        "#delete [95,14,12]\n",
        "nums=[25,36,95,14,12,26]\n",
        "del(nums[2:5])\n",
        "print(nums)"
      ],
      "metadata": {
        "colab": {
          "base_uri": "https://localhost:8080/"
        },
        "id": "qqftWyxxxLy_",
        "outputId": "856b60cc-48dd-41d2-e4fc-70af09d50ae9"
      },
      "execution_count": null,
      "outputs": [
        {
          "output_type": "stream",
          "name": "stdout",
          "text": [
            "[25, 36, 26]\n"
          ]
        }
      ]
    },
    {
      "cell_type": "code",
      "source": [
        "dicti={1:'hey', 2:'three'}\n",
        "dicti.keys()\n",
        "dicti.values()\n",
        "dicti[3]='good'\n",
        "dicti.\n",
        "print(dicti)"
      ],
      "metadata": {
        "colab": {
          "base_uri": "https://localhost:8080/"
        },
        "id": "_Lh7u9lx0fuT",
        "outputId": "39fc5c4b-c7f3-4bde-a6ef-8335558fad78"
      },
      "execution_count": null,
      "outputs": [
        {
          "output_type": "stream",
          "name": "stdout",
          "text": [
            "{1: 'hey', 2: 'three', 3: 'good'}\n"
          ]
        }
      ]
    },
    {
      "cell_type": "code",
      "execution_count": null,
      "metadata": {
        "colab": {
          "base_uri": "https://localhost:8080/"
        },
        "id": "CrrF_FiSsx7m",
        "outputId": "9a50ee37-c5ed-4c4e-d771-688b0bd3d53e"
      },
      "outputs": [
        {
          "output_type": "stream",
          "name": "stdout",
          "text": [
            "nohtyP yeH\n"
          ]
        }
      ],
      "source": [
        "name='Hey Python'\n",
        "print(name[-1::-1])"
      ]
    },
    {
      "cell_type": "code",
      "execution_count": null,
      "metadata": {
        "colab": {
          "base_uri": "https://localhost:8080/"
        },
        "id": "_47JpNIQDyws",
        "outputId": "5072ad65-036b-4693-d797-32b17105c178"
      },
      "outputs": [
        {
          "output_type": "stream",
          "name": "stdout",
          "text": [
            "Telusko \\n Rocks\n"
          ]
        }
      ],
      "source": [
        "print(r'Telusko \\n Rocks')"
      ]
    }
  ],
  "metadata": {
    "colab": {
      "name": "Experimenting.ipynb",
      "provenance": [],
      "collapsed_sections": [],
      "authorship_tag": "ABX9TyNfIOPjEzeVSaMYBvpnhxkb",
      "include_colab_link": true
    },
    "kernelspec": {
      "display_name": "Python 3",
      "name": "python3"
    },
    "language_info": {
      "name": "python"
    }
  },
  "nbformat": 4,
  "nbformat_minor": 0
}