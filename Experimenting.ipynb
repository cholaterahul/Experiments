{
  "cells": [
    {
      "cell_type": "markdown",
      "metadata": {
        "id": "view-in-github",
        "colab_type": "text"
      },
      "source": [
        "<a href=\"https://colab.research.google.com/github/cholaterahul/Experiments/blob/master/Experimenting.ipynb\" target=\"_parent\"><img src=\"https://colab.research.google.com/assets/colab-badge.svg\" alt=\"Open In Colab\"/></a>"
      ]
    },
    {
      "cell_type": "code",
      "execution_count": null,
      "metadata": {
        "colab": {
          "base_uri": "https://localhost:8080/"
        },
        "id": "0E3B0WqiDNHg",
        "outputId": "a8e3386d-449b-4f25-aeef-cc6410563878"
      },
      "outputs": [
        {
          "output_type": "stream",
          "name": "stdout",
          "text": [
            "navin\\'s \"laptop\"\n"
          ]
        }
      ],
      "source": [
        "print(r'navin\\'s \"laptop\"') "
      ]
    },
    {
      "cell_type": "code",
      "source": [
        "1%5"
      ],
      "metadata": {
        "colab": {
          "base_uri": "https://localhost:8080/"
        },
        "id": "S9SBgmIDtWed",
        "outputId": "2dfe7731-bc8a-48e8-839e-8e89495ebaa3"
      },
      "execution_count": 4,
      "outputs": [
        {
          "output_type": "execute_result",
          "data": {
            "text/plain": [
              "1"
            ]
          },
          "metadata": {},
          "execution_count": 4
        }
      ]
    },
    {
      "cell_type": "code",
      "source": [
        "#3**3\n",
        "3^3\n",
        "# XOR (^) operator is a bit operator. It gives bianry number \"1\" only if it is either (0,1) or (1,0)\n"
      ],
      "metadata": {
        "colab": {
          "base_uri": "https://localhost:8080/"
        },
        "id": "QE7_8jbzJT7I",
        "outputId": "7c450f4e-017c-4139-d016-955a221d8aa2"
      },
      "execution_count": null,
      "outputs": [
        {
          "output_type": "execute_result",
          "data": {
            "text/plain": [
              "0"
            ]
          },
          "metadata": {},
          "execution_count": 8
        }
      ]
    },
    {
      "cell_type": "code",
      "source": [
        "car =\t{\n",
        "  \"brand\": \"Ford\",\n",
        "  \"model\": \"Mustang\",\n",
        "  \"year\": 1964\n",
        "}\n",
        "car.get(\"model\")"
      ],
      "metadata": {
        "colab": {
          "base_uri": "https://localhost:8080/",
          "height": 35
        },
        "id": "zsya7xlsO3Ho",
        "outputId": "3332e442-4fb4-4ff3-ead2-eb60342dbf33"
      },
      "execution_count": null,
      "outputs": [
        {
          "output_type": "execute_result",
          "data": {
            "text/plain": [
              "'Mustang'"
            ],
            "application/vnd.google.colaboratory.intrinsic+json": {
              "type": "string"
            }
          },
          "metadata": {},
          "execution_count": 19
        }
      ]
    },
    {
      "cell_type": "code",
      "source": [
        "def tail(filename, n=10):\n",
        "    with open(filename, \"r\") as f:\n",
        "    \tlines = f.readlines()\n",
        "    for line in lines[len(lines)-n:]:\n",
        "        print(line)\n"
      ],
      "metadata": {
        "id": "wGPbvGdwSqtQ"
      },
      "execution_count": null,
      "outputs": []
    },
    {
      "cell_type": "code",
      "source": [
        "n=int(input())\n",
        "l1=[1,2,3,4,5,6,6,7]\n",
        "l1[len(l1)-n:]"
      ],
      "metadata": {
        "colab": {
          "base_uri": "https://localhost:8080/"
        },
        "id": "RaC7BT5DWUlR",
        "outputId": "d4c05ce7-719b-445a-e28e-de8cc5512a90"
      },
      "execution_count": null,
      "outputs": [
        {
          "name": "stdout",
          "output_type": "stream",
          "text": [
            "2\n"
          ]
        },
        {
          "output_type": "execute_result",
          "data": {
            "text/plain": [
              "[6, 7]"
            ]
          },
          "metadata": {},
          "execution_count": 8
        }
      ]
    },
    {
      "cell_type": "code",
      "source": [
        "\"\"\"\n",
        "cvsdv\n",
        "ffdg\n",
        "df\n",
        "g\n",
        "fd\n",
        "vfd\n",
        "\"\"\""
      ],
      "metadata": {
        "colab": {
          "base_uri": "https://localhost:8080/",
          "height": 35
        },
        "id": "ouzjRZ_UWvib",
        "outputId": "a8935771-fba5-4069-f1cd-1beeecc565a1"
      },
      "execution_count": null,
      "outputs": [
        {
          "output_type": "execute_result",
          "data": {
            "text/plain": [
              "'\\ncvsdv\\nffdg\\ndf\\ng\\nfd\\nvfd\\n'"
            ],
            "application/vnd.google.colaboratory.intrinsic+json": {
              "type": "string"
            }
          },
          "metadata": {},
          "execution_count": 9
        }
      ]
    },
    {
      "cell_type": "code",
      "source": [
        "\"\"\"\n",
        "Content of \"log.txt\":\n",
        "10.1.2.1 - car [01/Mar/2022:13:05:05 +0900] \"GET /python HTTP/1.0\" 200 2222\n",
        "10.1.1.9 - bike [01/Mar/2022:13:05:10 +0900] \"GET /python HTTP/1.0\" 200 2222\n",
        "\n",
        "Expected output:\n",
        "01/Mar/2022:13:05:05 +0900\n",
        "01/Mar/2022:13:05:10 +0900\n",
        "\"\"\"\n",
        "\n",
        "def parse1():\n",
        "    for line in open(\"log.txt\"):\n",
        "        print(line.split(\"[\")[1].split(\"]\")[0])\n",
        "\n",
        "def parse2():\n",
        "    for line in open(\"log.txt\", \"r\"):\n",
        "        print(line.split()[3].strip(\"[]\"))\n",
        "\n",
        "def parse3():\n",
        "    for line in open(\"log.txt\", \"r\"):\n",
        "        print(\" \".join(line.split(\"[\" or \"]\")[3:5]))\n",
        "\n",
        "def parse4():\n",
        "    for line in open(\"log.txt\", \"rw\"):\n",
        "        print(\" \".join(line.split()[3:5]).strip(\"[]\"))\n",
        "  \n",
        "def parse5():\n",
        "    for line in open(\"log.txt\"):\n",
        "        print(re.split(\"\\[|\\]\", line)[1])"
      ],
      "metadata": {
        "id": "jz7VmHGvW7sR"
      },
      "execution_count": null,
      "outputs": []
    },
    {
      "cell_type": "code",
      "source": [
        "nums=[1,2,3,4,-4,-5]\n",
        "print(nums)\n",
        "#def sqsum1(nums):\n",
        "\t#return sum(x**2 if x > 0 for x in nums)\n",
        "\n",
        "#def sqsum2(nums):\n",
        "  \t#return sum(x^2 for x in nums if x > 0)\n",
        "\n",
        "#def sqsum3(nums):\n",
        "  \t#return sum(for x in nums if x > 0 then x^2)\n",
        "\n",
        "def sqsum4(nums):\n",
        "  \treturn sum(x**2 for x in nums if x > 0)\n",
        "\n",
        "#def sqsum5(nums):\n",
        "  \t#return sum(x^2 if x > 0 for x in nums)\n",
        "\n",
        "sqsum4(nums )"
      ],
      "metadata": {
        "colab": {
          "base_uri": "https://localhost:8080/"
        },
        "id": "CKa1E_eKYKAo",
        "outputId": "c52c56bb-68ae-4c1e-fe0c-9316b5722ffd"
      },
      "execution_count": null,
      "outputs": [
        {
          "output_type": "stream",
          "name": "stdout",
          "text": [
            "[1, 2, 3, 4, -4, -5]\n"
          ]
        },
        {
          "output_type": "execute_result",
          "data": {
            "text/plain": [
              "30"
            ]
          },
          "metadata": {},
          "execution_count": 22
        }
      ]
    },
    {
      "cell_type": "code",
      "source": [
        "class FunEvent:\n",
        "    def __init__(self, tags, year):\n",
        "        self.tags = tags\n",
        "        self.year = year\n",
        "    \n",
        "    def __str__(self):\n",
        "        return f\"FunEvent(tags={self.tags}, year={self.year})\"\n",
        "\n",
        "tags = [\"google\", \"ml\"]\n",
        "year = 2022\n",
        "bootcamp = FunEvent(tags, year)\n",
        "tags.append(\"bootcamp\")\n",
        "year = 2023\n",
        "print(bootcamp)"
      ],
      "metadata": {
        "colab": {
          "base_uri": "https://localhost:8080/"
        },
        "id": "9y5Pu88BZ0jh",
        "outputId": "51d0fd75-1691-4306-dad2-e5e45749e945"
      },
      "execution_count": null,
      "outputs": [
        {
          "output_type": "stream",
          "name": "stdout",
          "text": [
            "FunEvent(tags=['google', 'ml', 'bootcamp'], year=2022)\n"
          ]
        }
      ]
    },
    {
      "cell_type": "code",
      "source": [
        "class BaseLayer:\n",
        "    def __init__(self, name=\"\"):\n",
        "        self.name = name\n",
        "\n",
        "    def __repr__(self):\n",
        "        return f\"{self.name}Layer\"\n",
        "\n",
        "class ActivationLayer(BaseLayer):\n",
        "    def __init__(self, size):\n",
        "        super().__init__(\"Activation\")\n",
        "        self.size = size\n",
        "\n",
        "class FCLayer(BaseLayer):\n",
        "    def __init__(self, size):\n",
        "        super().__init__(\"FullyConnected\")\n",
        "        self.size = size"
      ],
      "metadata": {
        "id": "a8jG_6bIaeHd"
      },
      "execution_count": null,
      "outputs": []
    },
    {
      "cell_type": "code",
      "source": [
        ""
      ],
      "metadata": {
        "colab": {
          "base_uri": "https://localhost:8080/"
        },
        "id": "8UoDZ34OYvIF",
        "outputId": "30067bd3-130f-412a-9bec-758f22778884"
      },
      "execution_count": null,
      "outputs": [
        {
          "output_type": "execute_result",
          "data": {
            "text/plain": [
              "2147483648"
            ]
          },
          "metadata": {},
          "execution_count": 15
        }
      ]
    },
    {
      "cell_type": "code",
      "source": [
        "# Assigning Alphabets to its respective number in series. \n",
        "a=0\n",
        "for i in range (65, 91):\n",
        "    a=a+1\n",
        "    print(chr(i),'=',a)"
      ],
      "metadata": {
        "colab": {
          "base_uri": "https://localhost:8080/"
        },
        "id": "k-Pte3YotFkz",
        "outputId": "889c8864-22a6-4ec8-9f38-2785ccd00a28"
      },
      "execution_count": null,
      "outputs": [
        {
          "output_type": "stream",
          "name": "stdout",
          "text": [
            "A = 1\n",
            "B = 2\n",
            "C = 3\n",
            "D = 4\n",
            "E = 5\n",
            "F = 6\n",
            "G = 7\n",
            "H = 8\n",
            "I = 9\n",
            "J = 10\n",
            "K = 11\n",
            "L = 12\n",
            "M = 13\n",
            "N = 14\n",
            "O = 15\n",
            "P = 16\n",
            "Q = 17\n",
            "R = 18\n",
            "S = 19\n",
            "T = 20\n",
            "U = 21\n",
            "V = 22\n",
            "W = 23\n",
            "X = 24\n",
            "Y = 25\n",
            "Z = 26\n"
          ]
        }
      ]
    },
    {
      "cell_type": "code",
      "source": [
        "# Range Function in Python\n",
        "x = range(3, 20, 2)\n",
        "for n in x:\n",
        "  print(n)"
      ],
      "metadata": {
        "colab": {
          "base_uri": "https://localhost:8080/"
        },
        "id": "x4-ilpVhv5-a",
        "outputId": "4e05237a-d888-47e0-fc33-6f8a7aa94c58"
      },
      "execution_count": null,
      "outputs": [
        {
          "output_type": "stream",
          "name": "stdout",
          "text": [
            "3\n",
            "5\n",
            "7\n",
            "9\n",
            "11\n",
            "13\n",
            "15\n",
            "17\n",
            "19\n"
          ]
        }
      ]
    },
    {
      "cell_type": "code",
      "source": [
        "# To find lenghts of each elements of strings present in a tuple\n",
        "tup= ('siddu','Ritu',\"\",'Rahul')\n",
        "len_ele=[]\n",
        "for i in range(len(tup)):\n",
        "    len_ele.append(len(tup[i]))\n",
        "print('A list of length of each element in the tuple is :', len_ele)\n",
        "\n",
        "for i in range(len(len_ele)):\n",
        "    if len_ele[i]==0:\n",
        "        len_ele[i]=''\n",
        "    elif \n",
        "else:\n",
        "    print(len_ele)"
      ],
      "metadata": {
        "colab": {
          "base_uri": "https://localhost:8080/",
          "height": 130
        },
        "id": "u_WEn2DsxuI9",
        "outputId": "356014c2-0128-41b0-fd77-9d04871879b6"
      },
      "execution_count": null,
      "outputs": [
        {
          "output_type": "error",
          "ename": "SyntaxError",
          "evalue": "ignored",
          "traceback": [
            "\u001b[0;36m  File \u001b[0;32m\"<ipython-input-4-e06958cb92cd>\"\u001b[0;36m, line \u001b[0;32m11\u001b[0m\n\u001b[0;31m    elif\u001b[0m\n\u001b[0m         ^\u001b[0m\n\u001b[0;31mSyntaxError\u001b[0m\u001b[0;31m:\u001b[0m invalid syntax\n"
          ]
        }
      ]
    },
    {
      "cell_type": "code",
      "source": [
        "str_1 = \"this is string example....wow!!! this is really string\"\n",
        "print(str_1.replace(\"is\", \"was\"))\n",
        "print(str_1.replace(\"is\", \"was\", 1))# restricting number of replacements to occur"
      ],
      "metadata": {
        "id": "OOV7EKTF58Qq"
      },
      "execution_count": null,
      "outputs": []
    },
    {
      "cell_type": "code",
      "source": [
        "#Empty list:\n",
        "list_1=[]\n",
        "list_1"
      ],
      "metadata": {
        "id": "pWq1nqJ71ENO"
      },
      "execution_count": null,
      "outputs": []
    },
    {
      "cell_type": "code",
      "source": [
        "txt = \"The best things in life are free!\"\n",
        "\"free\" in txt"
      ],
      "metadata": {
        "id": "zcN8R1pC1EBY",
        "colab": {
          "base_uri": "https://localhost:8080/"
        },
        "outputId": "7f903516-41d6-4b07-f36e-7d223c72aef4"
      },
      "execution_count": null,
      "outputs": [
        {
          "output_type": "execute_result",
          "data": {
            "text/plain": [
              "True"
            ]
          },
          "metadata": {},
          "execution_count": 2
        }
      ]
    },
    {
      "cell_type": "code",
      "source": [
        "# To print ASCII values\n",
        "for i in range(65,91):\n",
        "    print(chr(i),'=',ord(chr(i)))"
      ],
      "metadata": {
        "id": "WFZb_UCByigr"
      },
      "execution_count": null,
      "outputs": []
    },
    {
      "cell_type": "code",
      "source": [
        "for i in range(1,10):\n",
        "    print(i)"
      ],
      "metadata": {
        "id": "2LqItbsZx2tg"
      },
      "execution_count": null,
      "outputs": []
    },
    {
      "cell_type": "code",
      "execution_count": null,
      "metadata": {
        "id": "ZL7S_NC8joBI"
      },
      "outputs": [],
      "source": [
        "list_1=[5,6,7,3,2,'Hi']\n",
        "list_1.pop(1)\n",
        "print(list_1)"
      ]
    },
    {
      "cell_type": "markdown",
      "source": [
        "***CONVERTING LISTS TO DATAFRAME***"
      ],
      "metadata": {
        "id": "BilXH4QGRERW"
      }
    },
    {
      "cell_type": "code",
      "source": [
        "import pandas as pd\n",
        "from pandas import DataFrame as df\n",
        "Names =  ['ASWINI', 'RITI', 'AADI']\n",
        "Age   =  [24, 10, 43]\n",
        "City  =  ['KOLKATA', 'DELHI', 'HYDERABAD']\n",
        "zipped_list=list(zip(Names,Age,City))\n",
        "print(zipped_list)\n",
        "data_frame = pd.DataFrame(zipped_list, columns= ['Name' , 'Age', 'City'], index=['1', '2', '3'])  \n",
        "print(data_frame)"
      ],
      "metadata": {
        "colab": {
          "base_uri": "https://localhost:8080/"
        },
        "id": "FptNGVFH38vQ",
        "outputId": "6541c528-29ab-4236-c16a-1770c5e6af44"
      },
      "execution_count": null,
      "outputs": [
        {
          "output_type": "stream",
          "name": "stdout",
          "text": [
            "[('ASWINI', 24, 'KOLKATA'), ('RITI', 10, 'DELHI'), ('AADI', 43, 'HYDERABAD')]\n",
            "     Name  Age       City\n",
            "1  ASWINI   24    KOLKATA\n",
            "2    RITI   10      DELHI\n",
            "3    AADI   43  HYDERABAD\n"
          ]
        }
      ]
    },
    {
      "cell_type": "code",
      "source": [
        "# TO Write comments in many sentences:\n",
        "\"\"\"\n",
        "Use Triple Quotes to enter comments in many lines\n",
        "\"\"\"\n"
      ],
      "metadata": {
        "id": "1hqjOkpLIKp9"
      },
      "execution_count": null,
      "outputs": []
    },
    {
      "cell_type": "code",
      "source": [
        "list_1=(5,6,7,3,2,'Hi')\n",
        "list_1.index('Hi')"
      ],
      "metadata": {
        "id": "b904TfDvvhah"
      },
      "execution_count": null,
      "outputs": []
    },
    {
      "cell_type": "code",
      "source": [
        "#delete [95,14,12]\n",
        "nums=[25,36,95,14,12,26]\n",
        "del(nums[2:5])\n",
        "print(nums)"
      ],
      "metadata": {
        "id": "qqftWyxxxLy_"
      },
      "execution_count": null,
      "outputs": []
    },
    {
      "cell_type": "code",
      "source": [
        "dicti={1:'hey', 2:'three'}\n",
        "dicti.keys()\n",
        "dicti.values()\n",
        "dicti[3]='good'\n",
        "dicti.\n",
        "print(dicti)"
      ],
      "metadata": {
        "id": "_Lh7u9lx0fuT"
      },
      "execution_count": null,
      "outputs": []
    },
    {
      "cell_type": "code",
      "execution_count": null,
      "metadata": {
        "id": "CrrF_FiSsx7m"
      },
      "outputs": [],
      "source": [
        "name='Hey Python'\n",
        "print(name[-1::-1])"
      ]
    },
    {
      "cell_type": "code",
      "execution_count": null,
      "metadata": {
        "id": "_47JpNIQDyws"
      },
      "outputs": [],
      "source": [
        "print(r'Telusko \\n Rocks')"
      ]
    }
  ],
  "metadata": {
    "colab": {
      "name": "Experimenting.ipynb",
      "provenance": [],
      "collapsed_sections": [],
      "authorship_tag": "ABX9TyM+VwQHHyx+HbyEKeyQdxki",
      "include_colab_link": true
    },
    "kernelspec": {
      "display_name": "Python 3",
      "name": "python3"
    },
    "language_info": {
      "name": "python"
    }
  },
  "nbformat": 4,
  "nbformat_minor": 0
}