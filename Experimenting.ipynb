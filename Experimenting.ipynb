{
  "cells": [
    {
      "cell_type": "markdown",
      "metadata": {
        "id": "view-in-github",
        "colab_type": "text"
      },
      "source": [
        "<a href=\"https://colab.research.google.com/github/cholaterahul/Experiments/blob/master/Experimenting.ipynb\" target=\"_parent\"><img src=\"https://colab.research.google.com/assets/colab-badge.svg\" alt=\"Open In Colab\"/></a>"
      ]
    },
    {
      "cell_type": "code",
      "execution_count": null,
      "metadata": {
        "colab": {
          "base_uri": "https://localhost:8080/"
        },
        "id": "0E3B0WqiDNHg",
        "outputId": "dab5e5fc-7784-44d3-e2d6-d8d509c16db7"
      },
      "outputs": [
        {
          "output_type": "stream",
          "name": "stdout",
          "text": [
            "navin\\'s \"laptop\"\n"
          ]
        }
      ],
      "source": [
        "print(r'navin\\'s \"laptop\"') "
      ]
    },
    {
      "cell_type": "code",
      "source": [
        "x=0\n",
        "while x <10:\n",
        "    x=x+1\n",
        "    break\n",
        "else:\n",
        "    print(\"Hello World\")"
      ],
      "metadata": {
        "id": "bVx0qoCbounM"
      },
      "execution_count": 4,
      "outputs": []
    },
    {
      "cell_type": "code",
      "source": [
        "import time\n",
        "while True:\n",
        "    print(\"I am Alive!\")\n",
        "    time.sleep(2)"
      ],
      "metadata": {
        "colab": {
          "base_uri": "https://localhost:8080/",
          "height": 860
        },
        "id": "7HVf4LKljz8P",
        "outputId": "83399f15-3f68-4b33-ab47-9efd06cf6765"
      },
      "execution_count": null,
      "outputs": [
        {
          "output_type": "stream",
          "name": "stdout",
          "text": [
            "I am Alive!\n",
            "I am Alive!\n",
            "I am Alive!\n",
            "I am Alive!\n",
            "I am Alive!\n",
            "I am Alive!\n",
            "I am Alive!\n",
            "I am Alive!\n",
            "I am Alive!\n",
            "I am Alive!\n",
            "I am Alive!\n",
            "I am Alive!\n",
            "I am Alive!\n",
            "I am Alive!\n",
            "I am Alive!\n",
            "I am Alive!\n",
            "I am Alive!\n",
            "I am Alive!\n",
            "I am Alive!\n",
            "I am Alive!\n",
            "I am Alive!\n",
            "I am Alive!\n",
            "I am Alive!\n",
            "I am Alive!\n",
            "I am Alive!\n",
            "I am Alive!\n",
            "I am Alive!\n",
            "I am Alive!\n",
            "I am Alive!\n",
            "I am Alive!\n",
            "I am Alive!\n",
            "I am Alive!\n",
            "I am Alive!\n",
            "I am Alive!\n",
            "I am Alive!\n",
            "I am Alive!\n",
            "I am Alive!\n",
            "I am Alive!\n"
          ]
        },
        {
          "output_type": "error",
          "ename": "KeyboardInterrupt",
          "evalue": "ignored",
          "traceback": [
            "\u001b[0;31m---------------------------------------------------------------------------\u001b[0m",
            "\u001b[0;31mKeyboardInterrupt\u001b[0m                         Traceback (most recent call last)",
            "\u001b[0;32m<ipython-input-2-8b59e4010db9>\u001b[0m in \u001b[0;36m<module>\u001b[0;34m()\u001b[0m\n\u001b[1;32m      2\u001b[0m \u001b[0;32mwhile\u001b[0m \u001b[0;32mTrue\u001b[0m\u001b[0;34m:\u001b[0m\u001b[0;34m\u001b[0m\u001b[0;34m\u001b[0m\u001b[0m\n\u001b[1;32m      3\u001b[0m     \u001b[0mprint\u001b[0m\u001b[0;34m(\u001b[0m\u001b[0;34m\"I am Alive!\"\u001b[0m\u001b[0;34m)\u001b[0m\u001b[0;34m\u001b[0m\u001b[0;34m\u001b[0m\u001b[0m\n\u001b[0;32m----> 4\u001b[0;31m     \u001b[0mtime\u001b[0m\u001b[0;34m.\u001b[0m\u001b[0msleep\u001b[0m\u001b[0;34m(\u001b[0m\u001b[0;36m1\u001b[0m\u001b[0;34m)\u001b[0m\u001b[0;34m\u001b[0m\u001b[0;34m\u001b[0m\u001b[0m\n\u001b[0m",
            "\u001b[0;31mKeyboardInterrupt\u001b[0m: "
          ]
        }
      ]
    },
    {
      "cell_type": "code",
      "source": [
        "x=0\n",
        "while x < 10:\n",
        "    print(f'x is {x}')\n",
        "    if x==3:\n",
        "        break\n",
        "    x+=1"
      ],
      "metadata": {
        "colab": {
          "base_uri": "https://localhost:8080/"
        },
        "id": "_U51Rtn7Aa2-",
        "outputId": "4be3ad9d-6f88-4649-e2e9-352704099978"
      },
      "execution_count": null,
      "outputs": [
        {
          "output_type": "stream",
          "name": "stdout",
          "text": [
            "x is 0\n",
            "x is 1\n",
            "x is 2\n",
            "x is 3\n"
          ]
        }
      ]
    },
    {
      "cell_type": "code",
      "source": [
        "# This is a Single comment\n",
        "'''\n",
        "This is a multiline\n",
        "string'''\n",
        "print (\"Hello World!\")"
      ],
      "metadata": {
        "colab": {
          "base_uri": "https://localhost:8080/"
        },
        "id": "vyp5DzuynhCH",
        "outputId": "b68bb33e-f77b-49dd-dd99-8c1e256a544f"
      },
      "execution_count": null,
      "outputs": [
        {
          "output_type": "stream",
          "name": "stdout",
          "text": [
            "Hello World!\n"
          ]
        }
      ]
    },
    {
      "cell_type": "code",
      "source": [
        "1%5"
      ],
      "metadata": {
        "colab": {
          "base_uri": "https://localhost:8080/"
        },
        "id": "S9SBgmIDtWed",
        "outputId": "2dfe7731-bc8a-48e8-839e-8e89495ebaa3"
      },
      "execution_count": null,
      "outputs": [
        {
          "output_type": "execute_result",
          "data": {
            "text/plain": [
              "1"
            ]
          },
          "metadata": {},
          "execution_count": 4
        }
      ]
    },
    {
      "cell_type": "code",
      "source": [
        "#3**3\n",
        "3^3\n",
        "# XOR (^) operator is a bit operator. It gives bianry number \"1\" only if it is either (0,1) or (1,0)\n"
      ],
      "metadata": {
        "colab": {
          "base_uri": "https://localhost:8080/"
        },
        "id": "QE7_8jbzJT7I",
        "outputId": "7c450f4e-017c-4139-d016-955a221d8aa2"
      },
      "execution_count": null,
      "outputs": [
        {
          "output_type": "execute_result",
          "data": {
            "text/plain": [
              "0"
            ]
          },
          "metadata": {},
          "execution_count": 8
        }
      ]
    },
    {
      "cell_type": "code",
      "source": [
        "car =\t{\n",
        "  \"brand\": \"Ford\",\n",
        "  \"model\": \"Mustang\",\n",
        "  \"year\": 1964\n",
        "}\n",
        "car.get(\"model\")"
      ],
      "metadata": {
        "colab": {
          "base_uri": "https://localhost:8080/",
          "height": 35
        },
        "id": "zsya7xlsO3Ho",
        "outputId": "3332e442-4fb4-4ff3-ead2-eb60342dbf33"
      },
      "execution_count": null,
      "outputs": [
        {
          "output_type": "execute_result",
          "data": {
            "text/plain": [
              "'Mustang'"
            ],
            "application/vnd.google.colaboratory.intrinsic+json": {
              "type": "string"
            }
          },
          "metadata": {},
          "execution_count": 19
        }
      ]
    },
    {
      "cell_type": "code",
      "source": [
        "def tail(filename, n=10):\n",
        "    with open(filename, \"r\") as f:\n",
        "    \tlines = f.readlines()\n",
        "    for line in lines[len(lines)-n:]:\n",
        "        print(line)\n"
      ],
      "metadata": {
        "id": "wGPbvGdwSqtQ"
      },
      "execution_count": null,
      "outputs": []
    },
    {
      "cell_type": "code",
      "source": [
        "n=int(input())\n",
        "l1=[1,2,3,4,5,6,6,7]\n",
        "l1[len(l1)-n:]"
      ],
      "metadata": {
        "colab": {
          "base_uri": "https://localhost:8080/"
        },
        "id": "RaC7BT5DWUlR",
        "outputId": "d4c05ce7-719b-445a-e28e-de8cc5512a90"
      },
      "execution_count": null,
      "outputs": [
        {
          "name": "stdout",
          "output_type": "stream",
          "text": [
            "2\n"
          ]
        },
        {
          "output_type": "execute_result",
          "data": {
            "text/plain": [
              "[6, 7]"
            ]
          },
          "metadata": {},
          "execution_count": 8
        }
      ]
    },
    {
      "cell_type": "code",
      "source": [
        "\"\"\"\n",
        "cvsdv\n",
        "ffdg\n",
        "df\n",
        "g\n",
        "fd\n",
        "vfd\n",
        "\"\"\""
      ],
      "metadata": {
        "colab": {
          "base_uri": "https://localhost:8080/",
          "height": 35
        },
        "id": "ouzjRZ_UWvib",
        "outputId": "a8935771-fba5-4069-f1cd-1beeecc565a1"
      },
      "execution_count": null,
      "outputs": [
        {
          "output_type": "execute_result",
          "data": {
            "text/plain": [
              "'\\ncvsdv\\nffdg\\ndf\\ng\\nfd\\nvfd\\n'"
            ],
            "application/vnd.google.colaboratory.intrinsic+json": {
              "type": "string"
            }
          },
          "metadata": {},
          "execution_count": 9
        }
      ]
    },
    {
      "cell_type": "code",
      "source": [
        "\"\"\"\n",
        "Content of \"log.txt\":\n",
        "10.1.2.1 - car [01/Mar/2022:13:05:05 +0900] \"GET /python HTTP/1.0\" 200 2222\n",
        "10.1.1.9 - bike [01/Mar/2022:13:05:10 +0900] \"GET /python HTTP/1.0\" 200 2222\n",
        "\n",
        "Expected output:\n",
        "01/Mar/2022:13:05:05 +0900\n",
        "01/Mar/2022:13:05:10 +0900\n",
        "\"\"\"\n",
        "\n",
        "def parse1():\n",
        "    for line in open(\"log.txt\"):\n",
        "        print(line.split(\"[\")[1].split(\"]\")[0])\n",
        "\n",
        "def parse2():\n",
        "    for line in open(\"log.txt\", \"r\"):\n",
        "        print(line.split()[3].strip(\"[]\"))\n",
        "\n",
        "def parse3():\n",
        "    for line in open(\"log.txt\", \"r\"):\n",
        "        print(\" \".join(line.split(\"[\" or \"]\")[3:5]))\n",
        "\n",
        "def parse4():\n",
        "    for line in open(\"log.txt\", \"rw\"):\n",
        "        print(\" \".join(line.split()[3:5]).strip(\"[]\"))\n",
        "  \n",
        "def parse5():\n",
        "    for line in open(\"log.txt\"):\n",
        "        print(re.split(\"\\[|\\]\", line)[1])"
      ],
      "metadata": {
        "id": "jz7VmHGvW7sR"
      },
      "execution_count": null,
      "outputs": []
    },
    {
      "cell_type": "code",
      "source": [
        "nums=[1,2,3,4,-4,-5]\n",
        "print(nums)\n",
        "#def sqsum1(nums):\n",
        "\t#return sum(x**2 if x > 0 for x in nums)\n",
        "\n",
        "#def sqsum2(nums):\n",
        "  \t#return sum(x^2 for x in nums if x > 0)\n",
        "\n",
        "#def sqsum3(nums):\n",
        "  \t#return sum(for x in nums if x > 0 then x^2)\n",
        "\n",
        "def sqsum4(nums):\n",
        "  \treturn sum(x**2 for x in nums if x > 0)\n",
        "\n",
        "#def sqsum5(nums):\n",
        "  \t#return sum(x^2 if x > 0 for x in nums)\n",
        "\n",
        "sqsum4(nums )"
      ],
      "metadata": {
        "colab": {
          "base_uri": "https://localhost:8080/"
        },
        "id": "CKa1E_eKYKAo",
        "outputId": "c52c56bb-68ae-4c1e-fe0c-9316b5722ffd"
      },
      "execution_count": null,
      "outputs": [
        {
          "output_type": "stream",
          "name": "stdout",
          "text": [
            "[1, 2, 3, 4, -4, -5]\n"
          ]
        },
        {
          "output_type": "execute_result",
          "data": {
            "text/plain": [
              "30"
            ]
          },
          "metadata": {},
          "execution_count": 22
        }
      ]
    },
    {
      "cell_type": "code",
      "source": [
        "class FunEvent:\n",
        "    def __init__(self, tags, year):\n",
        "        self.tags = tags\n",
        "        self.year = year\n",
        "    \n",
        "    def __str__(self):\n",
        "        return f\"FunEvent(tags={self.tags}, year={self.year})\"\n",
        "\n",
        "tags = [\"google\", \"ml\"]\n",
        "year = 2022\n",
        "bootcamp = FunEvent(tags, year)\n",
        "tags.append(\"bootcamp\")\n",
        "year = 2023\n",
        "print(bootcamp)"
      ],
      "metadata": {
        "colab": {
          "base_uri": "https://localhost:8080/"
        },
        "id": "9y5Pu88BZ0jh",
        "outputId": "51d0fd75-1691-4306-dad2-e5e45749e945"
      },
      "execution_count": null,
      "outputs": [
        {
          "output_type": "stream",
          "name": "stdout",
          "text": [
            "FunEvent(tags=['google', 'ml', 'bootcamp'], year=2022)\n"
          ]
        }
      ]
    },
    {
      "cell_type": "code",
      "source": [
        "class BaseLayer:\n",
        "    def __init__(self, name=\"\"):\n",
        "        self.name = name\n",
        "\n",
        "    def __repr__(self):\n",
        "        return f\"{self.name}Layer\"\n",
        "\n",
        "class ActivationLayer(BaseLayer):\n",
        "    def __init__(self, size):\n",
        "        super().__init__(\"Activation\")\n",
        "        self.size = size\n",
        "\n",
        "class FCLayer(BaseLayer):\n",
        "    def __init__(self, size):\n",
        "        super().__init__(\"FullyConnected\")\n",
        "        self.size = size"
      ],
      "metadata": {
        "id": "a8jG_6bIaeHd"
      },
      "execution_count": null,
      "outputs": []
    },
    {
      "cell_type": "code",
      "source": [
        ""
      ],
      "metadata": {
        "colab": {
          "base_uri": "https://localhost:8080/"
        },
        "id": "8UoDZ34OYvIF",
        "outputId": "30067bd3-130f-412a-9bec-758f22778884"
      },
      "execution_count": null,
      "outputs": [
        {
          "output_type": "execute_result",
          "data": {
            "text/plain": [
              "2147483648"
            ]
          },
          "metadata": {},
          "execution_count": 15
        }
      ]
    },
    {
      "cell_type": "code",
      "source": [
        "# Assigning Alphabets to its respective number in series. \n",
        "a=0\n",
        "for i in range (65, 91):\n",
        "    a=a+1\n",
        "    print(chr(i),'=',a)"
      ],
      "metadata": {
        "colab": {
          "base_uri": "https://localhost:8080/"
        },
        "id": "k-Pte3YotFkz",
        "outputId": "889c8864-22a6-4ec8-9f38-2785ccd00a28"
      },
      "execution_count": null,
      "outputs": [
        {
          "output_type": "stream",
          "name": "stdout",
          "text": [
            "A = 1\n",
            "B = 2\n",
            "C = 3\n",
            "D = 4\n",
            "E = 5\n",
            "F = 6\n",
            "G = 7\n",
            "H = 8\n",
            "I = 9\n",
            "J = 10\n",
            "K = 11\n",
            "L = 12\n",
            "M = 13\n",
            "N = 14\n",
            "O = 15\n",
            "P = 16\n",
            "Q = 17\n",
            "R = 18\n",
            "S = 19\n",
            "T = 20\n",
            "U = 21\n",
            "V = 22\n",
            "W = 23\n",
            "X = 24\n",
            "Y = 25\n",
            "Z = 26\n"
          ]
        }
      ]
    },
    {
      "cell_type": "code",
      "source": [
        "# Range Function in Python\n",
        "x = range(3, 20, 2)\n",
        "for n in x:\n",
        "  print(n)"
      ],
      "metadata": {
        "colab": {
          "base_uri": "https://localhost:8080/"
        },
        "id": "x4-ilpVhv5-a",
        "outputId": "4e05237a-d888-47e0-fc33-6f8a7aa94c58"
      },
      "execution_count": null,
      "outputs": [
        {
          "output_type": "stream",
          "name": "stdout",
          "text": [
            "3\n",
            "5\n",
            "7\n",
            "9\n",
            "11\n",
            "13\n",
            "15\n",
            "17\n",
            "19\n"
          ]
        }
      ]
    },
    {
      "cell_type": "code",
      "source": [
        "# To find lenghts of each elements of strings present in a tuple\n",
        "tup= ('siddu','Ritu',\"\",'Rahul')\n",
        "len_ele=[]\n",
        "for i in range(len(tup)):\n",
        "    len_ele.append(len(tup[i]))\n",
        "print('A list of length of each element in the tuple is :', len_ele)\n",
        "\n",
        "for i in range(len(len_ele)):\n",
        "    if len_ele[i]==0:\n",
        "        len_ele[i]=''\n",
        "    elif \n",
        "else:\n",
        "    print(len_ele)"
      ],
      "metadata": {
        "colab": {
          "base_uri": "https://localhost:8080/",
          "height": 130
        },
        "id": "u_WEn2DsxuI9",
        "outputId": "356014c2-0128-41b0-fd77-9d04871879b6"
      },
      "execution_count": null,
      "outputs": [
        {
          "output_type": "error",
          "ename": "SyntaxError",
          "evalue": "ignored",
          "traceback": [
            "\u001b[0;36m  File \u001b[0;32m\"<ipython-input-4-e06958cb92cd>\"\u001b[0;36m, line \u001b[0;32m11\u001b[0m\n\u001b[0;31m    elif\u001b[0m\n\u001b[0m         ^\u001b[0m\n\u001b[0;31mSyntaxError\u001b[0m\u001b[0;31m:\u001b[0m invalid syntax\n"
          ]
        }
      ]
    },
    {
      "cell_type": "code",
      "source": [
        "str_1 = \"this is string example....wow!!! this is really string\"\n",
        "print(str_1.replace(\"is\", \"was\"))\n",
        "print(str_1.replace(\"is\", \"was\", 1))# restricting number of replacements to occur"
      ],
      "metadata": {
        "id": "OOV7EKTF58Qq"
      },
      "execution_count": null,
      "outputs": []
    },
    {
      "cell_type": "code",
      "source": [
        "#Empty list:\n",
        "list_1=[]\n",
        "list_1"
      ],
      "metadata": {
        "id": "pWq1nqJ71ENO"
      },
      "execution_count": null,
      "outputs": []
    },
    {
      "cell_type": "code",
      "source": [
        "txt = \"The best things in life are free!\"\n",
        "\"free\" in txt"
      ],
      "metadata": {
        "id": "zcN8R1pC1EBY",
        "colab": {
          "base_uri": "https://localhost:8080/"
        },
        "outputId": "7f903516-41d6-4b07-f36e-7d223c72aef4"
      },
      "execution_count": null,
      "outputs": [
        {
          "output_type": "execute_result",
          "data": {
            "text/plain": [
              "True"
            ]
          },
          "metadata": {},
          "execution_count": 2
        }
      ]
    },
    {
      "cell_type": "code",
      "source": [
        "# To print ASCII values\n",
        "for i in range(65,91):\n",
        "    print(chr(i),'=',ord(chr(i)))"
      ],
      "metadata": {
        "id": "WFZb_UCByigr"
      },
      "execution_count": null,
      "outputs": []
    },
    {
      "cell_type": "code",
      "source": [
        "for i in range(1,10):\n",
        "    print(i)"
      ],
      "metadata": {
        "id": "2LqItbsZx2tg"
      },
      "execution_count": null,
      "outputs": []
    },
    {
      "cell_type": "code",
      "execution_count": null,
      "metadata": {
        "id": "ZL7S_NC8joBI"
      },
      "outputs": [],
      "source": [
        "list_1=[5,6,7,3,2,'Hi']\n",
        "list_1.pop(1)\n",
        "print(list_1)"
      ]
    },
    {
      "cell_type": "markdown",
      "source": [
        "***CONVERTING LISTS TO DATAFRAME***"
      ],
      "metadata": {
        "id": "BilXH4QGRERW"
      }
    },
    {
      "cell_type": "code",
      "source": [
        "import pandas as pd\n",
        "from pandas import DataFrame as df\n",
        "Names =  ['ASWINI', 'RITI', 'AADI']\n",
        "Age   =  [24, 10, 43]\n",
        "City  =  ['KOLKATA', 'DELHI', 'HYDERABAD']\n",
        "zipped_list=list(zip(Names,Age,City))\n",
        "print(zipped_list)\n",
        "data_frame = pd.DataFrame(zipped_list, columns= ['Name' , 'Age', 'City'], index=['1', '2', '3'])  \n",
        "print(data_frame)"
      ],
      "metadata": {
        "colab": {
          "base_uri": "https://localhost:8080/"
        },
        "id": "FptNGVFH38vQ",
        "outputId": "6541c528-29ab-4236-c16a-1770c5e6af44"
      },
      "execution_count": null,
      "outputs": [
        {
          "output_type": "stream",
          "name": "stdout",
          "text": [
            "[('ASWINI', 24, 'KOLKATA'), ('RITI', 10, 'DELHI'), ('AADI', 43, 'HYDERABAD')]\n",
            "     Name  Age       City\n",
            "1  ASWINI   24    KOLKATA\n",
            "2    RITI   10      DELHI\n",
            "3    AADI   43  HYDERABAD\n"
          ]
        }
      ]
    },
    {
      "cell_type": "code",
      "source": [
        "# TO Write comments in many sentences:\n",
        "\"\"\"\n",
        "Use Triple Quotes to enter comments in many lines\n",
        "\"\"\"\n"
      ],
      "metadata": {
        "id": "1hqjOkpLIKp9"
      },
      "execution_count": null,
      "outputs": []
    },
    {
      "cell_type": "code",
      "source": [
        "list_1=(5,6,7,3,2,'Hi')\n",
        "list_1.index('Hi')"
      ],
      "metadata": {
        "id": "b904TfDvvhah"
      },
      "execution_count": null,
      "outputs": []
    },
    {
      "cell_type": "code",
      "source": [
        "#delete [95,14,12]\n",
        "nums=[25,36,95,14,12,26]\n",
        "del(nums[2:5])\n",
        "print(nums)"
      ],
      "metadata": {
        "id": "qqftWyxxxLy_"
      },
      "execution_count": null,
      "outputs": []
    },
    {
      "cell_type": "code",
      "source": [
        "dicti={1:'hey', 2:'three'}\n",
        "dicti.keys()\n",
        "dicti.values()\n",
        "dicti[3]='good'\n",
        "dicti.\n",
        "print(dicti)"
      ],
      "metadata": {
        "id": "_Lh7u9lx0fuT"
      },
      "execution_count": null,
      "outputs": []
    },
    {
      "cell_type": "code",
      "execution_count": null,
      "metadata": {
        "id": "CrrF_FiSsx7m"
      },
      "outputs": [],
      "source": [
        "name='Hey Python'\n",
        "print(name[-1::-1])"
      ]
    },
    {
      "cell_type": "code",
      "execution_count": null,
      "metadata": {
        "id": "_47JpNIQDyws"
      },
      "outputs": [],
      "source": [
        "print(r'Telusko \\n Rocks')"
      ]
    },
    {
      "cell_type": "markdown",
      "source": [
        "**To get Country Information**"
      ],
      "metadata": {
        "id": "lPijCnWRS6oD"
      }
    },
    {
      "cell_type": "code",
      "source": [
        "#!pip install countryinfo  (Once it is installed, not requried again)\n",
        "from countryinfo import CountryInfo\n",
        "count=input(\"Enter your country: \")\n",
        "country=CountryInfo(count)\n",
        "print(\"Capital is:\",country.capital())\n",
        "print(\"Currencies is:\",country.currencies())  \n",
        "print(\"Language is:\",country.languages())\n",
        "print(\"Borders are:\",country.borders())\n",
        "print(\"Other Names are:\",country.alt_spellings())\n",
        "print(country.wiki())\n",
        "data = country.info()\n",
        "for i, j in data.items():\n",
        "  print(f'{i}:>>{j}')"
      ],
      "metadata": {
        "colab": {
          "base_uri": "https://localhost:8080/"
        },
        "id": "gLTqyLE7S_vU",
        "outputId": "7d4432da-367e-4c69-f24c-faac3ef6ba7d"
      },
      "execution_count": null,
      "outputs": [
        {
          "output_type": "stream",
          "name": "stdout",
          "text": [
            "Enter your country: india\n",
            "Capital is: New Delhi\n",
            "Currencies is: ['INR']\n",
            "Language is: ['hi', 'en']\n",
            "Borders are: ['AFG', 'BGD', 'BTN', 'MMR', 'CHN', 'NPL', 'PAK', 'LKA']\n",
            "Other Names are: ['IN', 'Bhārat', 'Republic of India', 'Bharat Ganrajya']\n",
            "http://en.wikipedia.org/wiki/india\n",
            "name:>>India\n",
            "altSpellings:>>['IN', 'Bhārat', 'Republic of India', 'Bharat Ganrajya']\n",
            "area:>>3287590\n",
            "borders:>>['AFG', 'BGD', 'BTN', 'MMR', 'CHN', 'NPL', 'PAK', 'LKA']\n",
            "callingCodes:>>['91']\n",
            "capital:>>New Delhi\n",
            "capital_latlng:>>[28.614179, 77.202266]\n",
            "currencies:>>['INR']\n",
            "demonym:>>Indian\n",
            "flag:>>\n",
            "geoJSON:>>{'type': 'FeatureCollection', 'features': [{'type': 'Feature', 'id': 'IND', 'properties': {'name': 'India'}, 'geometry': {'type': 'Polygon', 'coordinates': [[[77.837451, 35.49401], [78.912269, 34.321936], [78.811086, 33.506198], [79.208892, 32.994395], [79.176129, 32.48378], [78.458446, 32.618164], [78.738894, 31.515906], [79.721367, 30.882715], [81.111256, 30.183481], [80.476721, 29.729865], [80.088425, 28.79447], [81.057203, 28.416095], [81.999987, 27.925479], [83.304249, 27.364506], [84.675018, 27.234901], [85.251779, 26.726198], [86.024393, 26.630985], [87.227472, 26.397898], [88.060238, 26.414615], [88.174804, 26.810405], [88.043133, 27.445819], [88.120441, 27.876542], [88.730326, 28.086865], [88.814248, 27.299316], [88.835643, 27.098966], [89.744528, 26.719403], [90.373275, 26.875724], [91.217513, 26.808648], [92.033484, 26.83831], [92.103712, 27.452614], [91.696657, 27.771742], [92.503119, 27.896876], [93.413348, 28.640629], [94.56599, 29.277438], [95.404802, 29.031717], [96.117679, 29.452802], [96.586591, 28.83098], [96.248833, 28.411031], [97.327114, 28.261583], [97.402561, 27.882536], [97.051989, 27.699059], [97.133999, 27.083774], [96.419366, 27.264589], [95.124768, 26.573572], [95.155153, 26.001307], [94.603249, 25.162495], [94.552658, 24.675238], [94.106742, 23.850741], [93.325188, 24.078556], [93.286327, 23.043658], [93.060294, 22.703111], [93.166128, 22.27846], [92.672721, 22.041239], [92.146035, 23.627499], [91.869928, 23.624346], [91.706475, 22.985264], [91.158963, 23.503527], [91.46773, 24.072639], [91.915093, 24.130414], [92.376202, 24.976693], [91.799596, 25.147432], [90.872211, 25.132601], [89.920693, 25.26975], [89.832481, 25.965082], [89.355094, 26.014407], [88.563049, 26.446526], [88.209789, 25.768066], [88.931554, 25.238692], [88.306373, 24.866079], [88.084422, 24.501657], [88.69994, 24.233715], [88.52977, 23.631142], [88.876312, 22.879146], [89.031961, 22.055708], [88.888766, 21.690588], [88.208497, 21.703172], [86.975704, 21.495562], [87.033169, 20.743308], [86.499351, 20.151638], [85.060266, 19.478579], [83.941006, 18.30201], [83.189217, 17.671221], [82.192792, 17.016636], [82.191242, 16.556664], [81.692719, 16.310219], [80.791999, 15.951972], [80.324896, 15.899185], [80.025069, 15.136415], [80.233274, 13.835771], [80.286294, 13.006261], [79.862547, 12.056215], [79.857999, 10.357275], [79.340512, 10.308854], [78.885345, 9.546136], [79.18972, 9.216544], [78.277941, 8.933047], [77.941165, 8.252959], [77.539898, 7.965535], [76.592979, 8.899276], [76.130061, 10.29963], [75.746467, 11.308251], [75.396101, 11.781245], [74.864816, 12.741936], [74.616717, 13.992583], [74.443859, 14.617222], [73.534199, 15.990652], [73.119909, 17.92857], [72.820909, 19.208234], [72.824475, 20.419503], [72.630533, 21.356009], [71.175273, 20.757441], [70.470459, 20.877331], [69.16413, 22.089298], [69.644928, 22.450775], [69.349597, 22.84318], [68.176645, 23.691965], [68.842599, 24.359134], [71.04324, 24.356524], [70.844699, 25.215102], [70.282873, 25.722229], [70.168927, 26.491872], [69.514393, 26.940966], [70.616496, 27.989196], [71.777666, 27.91318], [72.823752, 28.961592], [73.450638, 29.976413], [74.42138, 30.979815], [74.405929, 31.692639], [75.258642, 32.271105], [74.451559, 32.7649], [74.104294, 33.441473], [73.749948, 34.317699], [74.240203, 34.748887], [75.757061, 34.504923], [76.871722, 34.653544], [77.837451, 35.49401]]]}}]}\n",
            "ISO:>>{'alpha2': 'IN', 'alpha3': 'IND'}\n",
            "languages:>>['hi', 'en']\n",
            "latlng:>>[20, 77]\n",
            "nativeName:>>भारत\n",
            "population:>>1263930000\n",
            "provinces:>>['Andaman and Nicobar Islands', 'Andhra Pradesh', 'Arunachal Pradesh', 'Assam', 'Bihar', 'Chandigarh', 'Chhattisgarh', 'Dadra and Nagar Haveli', 'Daman and Diu', 'Delhi', 'Goa', 'Gujarat', 'Haryana', 'Himachal Pradesh', 'Jammu and Kashmir', 'Jharkhand', 'Karnataka', 'Kerala', 'Lakshadweep', 'Madhya Pradesh', 'Maharashtra', 'Manipur', 'Meghalaya', 'Mizoram', 'Nagaland', 'Odisha', 'Puducherry', 'Punjab', 'Rajasthan', 'Sikkim', 'Tamil Nadu', 'Telangana', 'Tripura', 'Uttar Pradesh', 'Uttarakhand', 'West Bengal']\n",
            "region:>>Asia\n",
            "subregion:>>Southern Asia\n",
            "timezones:>>['UTC+05:30']\n",
            "tld:>>['.in']\n",
            "translations:>>{'de': 'Indien', 'es': 'India', 'fr': 'Inde', 'ja': 'インド', 'it': 'India'}\n",
            "wiki:>>http://en.wikipedia.org/wiki/india\n"
          ]
        }
      ]
    },
    {
      "cell_type": "markdown",
      "source": [
        "Covert Data into DataFrame"
      ],
      "metadata": {
        "id": "88hC6xU8aepH"
      }
    },
    {
      "cell_type": "code",
      "source": [
        "import pandas as pd\n",
        "from pandas import DataFrame\n",
        "Names =  ['ASWINI', 'Dhruti', 'Gawu']\n",
        "Age   =  [24, 10, 43]\n",
        "City  =  ['KOLKATA', 'DELHI', 'HYDERABAD']\n",
        "edu = ['10th','5th','Inter']\n",
        "zipped_list=list(zip(Names,Age,City))\n",
        "print(zipped_list)\n",
        "data_frame = pd.DataFrame(zipped_list, columns= ['Name' , 'Age', 'City'], index=['1', '2', '3'])  \n",
        "print(data_frame)\n"
      ],
      "metadata": {
        "colab": {
          "base_uri": "https://localhost:8080/"
        },
        "id": "h5V8yKOxadjX",
        "outputId": "3ce53e14-78c9-421f-ca03-4e6cac41b821"
      },
      "execution_count": null,
      "outputs": [
        {
          "output_type": "stream",
          "name": "stdout",
          "text": [
            "[('ASWINI', 24, 'KOLKATA'), ('Dhruti', 10, 'DELHI'), ('Gawu', 43, 'HYDERABAD')]\n",
            "     Name  Age       City\n",
            "1  ASWINI   24    KOLKATA\n",
            "2  Dhruti   10      DELHI\n",
            "3    Gawu   43  HYDERABAD\n"
          ]
        }
      ]
    }
  ],
  "metadata": {
    "colab": {
      "name": "Experimenting.ipynb",
      "provenance": [],
      "collapsed_sections": [],
      "mount_file_id": "1eZ343amnbKxJZ3tGyRsZS6-jfnRUGPkg",
      "authorship_tag": "ABX9TyOyDDNpp26VBGypVMys1zK3",
      "include_colab_link": true
    },
    "kernelspec": {
      "display_name": "Python 3",
      "name": "python3"
    },
    "language_info": {
      "name": "python"
    }
  },
  "nbformat": 4,
  "nbformat_minor": 0
}